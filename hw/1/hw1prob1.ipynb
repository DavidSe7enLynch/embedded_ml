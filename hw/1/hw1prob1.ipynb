{
 "cells": [
  {
   "cell_type": "code",
   "execution_count": 1,
   "outputs": [],
   "source": [
    "import torch\n",
    "from enum import Enum\n",
    "\n",
    "\n",
    "class DatasetKind(Enum):\n",
    "    OR = 0\n",
    "    AND = 1\n",
    "    XOR = 2\n",
    "\n",
    "\n",
    "class SingleLayer(torch.nn.Module):\n",
    "    def __init__(self, input_size):\n",
    "        super(SingleLayer, self).__init__()\n",
    "        self.fc = torch.nn.Linear(input_size, 1)\n",
    "        self.sigmoid = torch.nn.Sigmoid()\n",
    "\n",
    "    def forward(self, x):\n",
    "        output = self.fc(x)\n",
    "        output = self.sigmoid(output)\n",
    "        return output\n",
    "\n",
    "\n",
    "class OneHiddenLayer(torch.nn.Module):\n",
    "    def __init__(self, input_size):\n",
    "        hidden_size = 10\n",
    "        super(OneHiddenLayer, self).__init__()\n",
    "        self.input_size = input_size\n",
    "        self.hidden_size = hidden_size\n",
    "        self.fc1 = torch.nn.Linear(self.input_size, self.hidden_size)\n",
    "        self.relu = torch.nn.ReLU()\n",
    "        self.fc2 = torch.nn.Linear(self.hidden_size, 1)\n",
    "        self.sigmoid = torch.nn.Sigmoid()\n",
    "\n",
    "    def forward(self, x):\n",
    "        hidden = self.fc1(x)\n",
    "        relu = self.relu(hidden)\n",
    "        output = self.fc2(relu)\n",
    "        output = self.sigmoid(output)\n",
    "        return output\n",
    "\n",
    "\n",
    "class Dataset:\n",
    "    def __init__(self, dataset_kind):\n",
    "        self.x, self.y = self.create_dataset(dataset_kind)\n",
    "\n",
    "    @staticmethod\n",
    "    def create_dataset(dataset_kind):\n",
    "        x = []\n",
    "        y = []\n",
    "        if dataset_kind == DatasetKind.XOR:\n",
    "            for i in range(0, 2):\n",
    "                for j in range(0, 2):\n",
    "                    x.append([i, j])\n",
    "                    if dataset_kind == DatasetKind.XOR:\n",
    "                        y.append(i ^ j)\n",
    "        else:\n",
    "            for i in range(0, 2):\n",
    "                for j in range(0, 2):\n",
    "                    for k in range(0, 2):\n",
    "                        x.append([i, j, k])\n",
    "                        if dataset_kind == DatasetKind.OR:\n",
    "                            y.append(i | j | k)\n",
    "                        elif dataset_kind == DatasetKind.AND:\n",
    "                            y.append(i & j & k)\n",
    "\n",
    "        return torch.Tensor(x), torch.Tensor(y)\n",
    "\n",
    "\n",
    "def train(dataset, model_kind, epoch):\n",
    "    input_size = dataset.x.size(1)\n",
    "    model = model_kind(input_size)\n",
    "    criterion = torch.nn.BCELoss()\n",
    "    optimizer = torch.optim.SGD(model.parameters(), lr=0.01)\n",
    "\n",
    "    model.eval()\n",
    "    y_pred = model(dataset.x)\n",
    "    before_train = criterion(y_pred.squeeze(), dataset.y)\n",
    "    print('Test loss before training', before_train.item())\n",
    "\n",
    "    model.train()\n",
    "    for epoch in range(epoch):\n",
    "        optimizer.zero_grad()\n",
    "        y_pred = model(dataset.x)\n",
    "        loss = criterion(y_pred.squeeze(), dataset.y)\n",
    "\n",
    "        # print('Epoch {}: train loss: {}'.format(epoch, loss.item()))\n",
    "        loss.backward()\n",
    "        optimizer.step()\n",
    "\n",
    "    model.eval()\n",
    "    y_pred = model(dataset.x)\n",
    "    after_train = criterion(y_pred.squeeze(), dataset.y)\n",
    "    print('Test loss after Training', after_train.item())\n",
    "    print('Input: ', dataset.x)\n",
    "    print('Target: ', dataset.y)\n",
    "    print('Predicted: ', y_pred)"
   ],
   "metadata": {
    "collapsed": false,
    "pycharm": {
     "name": "#%%\n"
    }
   }
  },
  {
   "cell_type": "code",
   "execution_count": 2,
   "outputs": [
    {
     "name": "stdout",
     "output_type": "stream",
     "text": [
      "Test loss before training 0.7089362740516663\n",
      "Test loss after Training 0.6931471824645996\n",
      "Input:  tensor([[0., 0.],\n",
      "        [0., 1.],\n",
      "        [1., 0.],\n",
      "        [1., 1.]])\n",
      "Target:  tensor([0., 1., 1., 0.])\n",
      "Predicted:  tensor([[0.5000],\n",
      "        [0.5000],\n",
      "        [0.5000],\n",
      "        [0.5000]], grad_fn=<SigmoidBackward0>)\n"
     ]
    }
   ],
   "source": [
    "dataset = Dataset(DatasetKind.XOR)  # XOR, OR, AND\n",
    "train(dataset, SingleLayer, 50000)  # SingleLayer, OneHiddenLayer"
   ],
   "metadata": {
    "collapsed": false,
    "pycharm": {
     "name": "#%%\n"
    }
   }
  },
  {
   "cell_type": "markdown",
   "source": [
    "# Explanation\n",
    "- For AND and OR, the output can be separated by a plane in a 3-D space.\n",
    "- For XOR, the output cannot be separated linearly, therefore single-layer perceptron cannot learn it."
   ],
   "metadata": {
    "collapsed": false,
    "pycharm": {
     "name": "#%% md\n"
    }
   }
  },
  {
   "cell_type": "code",
   "execution_count": 2,
   "outputs": [],
   "source": [],
   "metadata": {
    "collapsed": false,
    "pycharm": {
     "name": "#%%\n"
    }
   }
  }
 ],
 "metadata": {
  "kernelspec": {
   "display_name": "Python 3",
   "language": "python",
   "name": "python3"
  },
  "language_info": {
   "codemirror_mode": {
    "name": "ipython",
    "version": 2
   },
   "file_extension": ".py",
   "mimetype": "text/x-python",
   "name": "python",
   "nbconvert_exporter": "python",
   "pygments_lexer": "ipython2",
   "version": "2.7.6"
  }
 },
 "nbformat": 4,
 "nbformat_minor": 0
}